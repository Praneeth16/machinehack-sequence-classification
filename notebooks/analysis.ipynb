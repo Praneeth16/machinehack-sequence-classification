{
 "cells": [
  {
   "cell_type": "markdown",
   "metadata": {},
   "source": [
    "### Setup"
   ]
  },
  {
   "cell_type": "code",
   "execution_count": 1,
   "metadata": {},
   "outputs": [],
   "source": [
    "! pip install contractions -q"
   ]
  },
  {
   "cell_type": "markdown",
   "metadata": {},
   "source": [
    "### Load the packages"
   ]
  },
  {
   "cell_type": "code",
   "execution_count": 2,
   "metadata": {},
   "outputs": [],
   "source": [
    "import re\n",
    "\n",
    "import contractions\n",
    "import pandas as pd\n",
    "from tqdm.notebook import tqdm\n",
    "import warnings\n",
    "\n",
    "pd.set_option('display.max_columns', None)\n",
    "tqdm.pandas()\n",
    "warnings.filterwarnings('ignore')"
   ]
  },
  {
   "cell_type": "code",
   "execution_count": 3,
   "metadata": {},
   "outputs": [
    {
     "name": "stdout",
     "output_type": "stream",
     "text": [
      "Shape of data: (290183, 5)\n"
     ]
    },
    {
     "data": {
      "text/html": [
       "<div>\n",
       "<style scoped>\n",
       "    .dataframe tbody tr th:only-of-type {\n",
       "        vertical-align: middle;\n",
       "    }\n",
       "\n",
       "    .dataframe tbody tr th {\n",
       "        vertical-align: top;\n",
       "    }\n",
       "\n",
       "    .dataframe thead th {\n",
       "        text-align: right;\n",
       "    }\n",
       "</style>\n",
       "<table border=\"1\" class=\"dataframe\">\n",
       "  <thead>\n",
       "    <tr style=\"text-align: right;\">\n",
       "      <th></th>\n",
       "      <th>text</th>\n",
       "      <th>genre</th>\n",
       "      <th>label</th>\n",
       "      <th>label_model</th>\n",
       "      <th>text_cleaned</th>\n",
       "    </tr>\n",
       "  </thead>\n",
       "  <tbody>\n",
       "    <tr>\n",
       "      <th>0</th>\n",
       "      <td>It starts with pain, followed by hate\\nFueled ...</td>\n",
       "      <td>rock</td>\n",
       "      <td>9</td>\n",
       "      <td>LABEL_9</td>\n",
       "      <td>It starts with pain, followed by hate\\nFueled ...</td>\n",
       "    </tr>\n",
       "    <tr>\n",
       "      <th>1</th>\n",
       "      <td>Freedom!\\nAlone again again alone\\nPatiently w...</td>\n",
       "      <td>rock</td>\n",
       "      <td>9</td>\n",
       "      <td>LABEL_9</td>\n",
       "      <td>Freedom!\\nAlone again again alone\\nPatiently w...</td>\n",
       "    </tr>\n",
       "    <tr>\n",
       "      <th>2</th>\n",
       "      <td>Biting the hand that feeds you, lying to the v...</td>\n",
       "      <td>rock</td>\n",
       "      <td>9</td>\n",
       "      <td>LABEL_9</td>\n",
       "      <td>Biting the hand that feeds you, lying to the v...</td>\n",
       "    </tr>\n",
       "    <tr>\n",
       "      <th>3</th>\n",
       "      <td>You say you know just who I am\\nBut you can't ...</td>\n",
       "      <td>rock</td>\n",
       "      <td>9</td>\n",
       "      <td>LABEL_9</td>\n",
       "      <td>You say you know just who I am\\nBut you can't ...</td>\n",
       "    </tr>\n",
       "    <tr>\n",
       "      <th>4</th>\n",
       "      <td>My heart is beating faster can't control these...</td>\n",
       "      <td>rock</td>\n",
       "      <td>9</td>\n",
       "      <td>LABEL_9</td>\n",
       "      <td>My heart is beating faster can't control these...</td>\n",
       "    </tr>\n",
       "  </tbody>\n",
       "</table>\n",
       "</div>"
      ],
      "text/plain": [
       "                                                text genre  label label_model  \\\n",
       "0  It starts with pain, followed by hate\\nFueled ...  rock      9     LABEL_9   \n",
       "1  Freedom!\\nAlone again again alone\\nPatiently w...  rock      9     LABEL_9   \n",
       "2  Biting the hand that feeds you, lying to the v...  rock      9     LABEL_9   \n",
       "3  You say you know just who I am\\nBut you can't ...  rock      9     LABEL_9   \n",
       "4  My heart is beating faster can't control these...  rock      9     LABEL_9   \n",
       "\n",
       "                                        text_cleaned  \n",
       "0  It starts with pain, followed by hate\\nFueled ...  \n",
       "1  Freedom!\\nAlone again again alone\\nPatiently w...  \n",
       "2  Biting the hand that feeds you, lying to the v...  \n",
       "3  You say you know just who I am\\nBut you can't ...  \n",
       "4  My heart is beating faster can't control these...  "
      ]
     },
     "execution_count": 3,
     "metadata": {},
     "output_type": "execute_result"
    }
   ],
   "source": [
    "data = pd.read_csv('../data/Train.csv')\\\n",
    "        .drop(columns=['Unnamed: 0'])\n",
    "print(f'Shape of data: {data.shape}')\n",
    "data.head()"
   ]
  },
  {
   "cell_type": "markdown",
   "metadata": {},
   "source": [
    "### EDA"
   ]
  },
  {
   "cell_type": "code",
   "execution_count": 63,
   "metadata": {},
   "outputs": [
    {
     "name": "stdout",
     "output_type": "stream",
     "text": [
      "<class 'pandas.core.frame.DataFrame'>\n",
      "RangeIndex: 290183 entries, 0 to 290182\n",
      "Data columns (total 5 columns):\n",
      " #   Column        Non-Null Count   Dtype \n",
      "---  ------        --------------   ----- \n",
      " 0   text          290148 non-null  object\n",
      " 1   genre         290183 non-null  object\n",
      " 2   label         290183 non-null  int64 \n",
      " 3   label_model   290183 non-null  object\n",
      " 4   text_cleaned  290147 non-null  object\n",
      "dtypes: int64(1), object(4)\n",
      "memory usage: 11.1+ MB\n"
     ]
    }
   ],
   "source": [
    "data.info()"
   ]
  },
  {
   "cell_type": "code",
   "execution_count": 64,
   "metadata": {},
   "outputs": [
    {
     "data": {
      "text/plain": [
       "text            35\n",
       "genre            0\n",
       "label            0\n",
       "label_model      0\n",
       "text_cleaned    36\n",
       "dtype: int64"
      ]
     },
     "execution_count": 64,
     "metadata": {},
     "output_type": "execute_result"
    }
   ],
   "source": [
    "data.isnull().sum()"
   ]
  },
  {
   "cell_type": "code",
   "execution_count": 65,
   "metadata": {},
   "outputs": [
    {
     "data": {
      "text/plain": [
       "genre       label_model\n",
       "rock        LABEL_9        121404\n",
       "pop         LABEL_7        108714\n",
       "metal       LABEL_6         20291\n",
       "jazz        LABEL_5         13545\n",
       "folk        LABEL_2          8644\n",
       "indie       LABEL_4          8449\n",
       "r&b         LABEL_8          2793\n",
       "hip-hop     LABEL_3          2240\n",
       "electronic  LABEL_1          2213\n",
       "country     LABEL_0          1890\n",
       "Name: count, dtype: int64"
      ]
     },
     "execution_count": 65,
     "metadata": {},
     "output_type": "execute_result"
    }
   ],
   "source": [
    "data[['genre', 'label_model']].value_counts()"
   ]
  },
  {
   "cell_type": "code",
   "execution_count": 66,
   "metadata": {},
   "outputs": [
    {
     "name": "stdout",
     "output_type": "stream",
     "text": [
      "Uncleaned text:\n",
      "--------------------\n",
      "It starts with pain, followed by hate\n",
      "Fueled by the endless questions no one can answer\n",
      "A stain covers your heart and tears you apart\n",
      "Just like a sleeping cancer\n",
      "I don't believe men are born to be killers\n",
      "I don't believe the world can be saved\n",
      "How did you get here and when did it start?\n",
      "An innocent child with a thorn in his heart\n",
      "What kind of world do we live in?\n",
      "Where love is divided by hate\n",
      "Loosing control of our feelings\n",
      "We all must be dreaming this life away\n",
      "In a world so cold\n",
      "Are you sane, where's the shame?\n",
      "A moment of time passes by you cannot rewind\n",
      "Who's to blame and where did it start?\n",
      "Is there a cure for your sickness\n",
      "Have you no heart?\n",
      "I don't believe men are born to be killers\n",
      "I don't believe the world can't be saved\n",
      "How did you get here and when did it start?\n",
      "An innocent child with a thorn in his heart\n",
      "What kind of world do we live in?\n",
      "Where love is divided by hate\n",
      "Selling our soul for no reason\n",
      "We all must be dreaming this life away\n",
      "In a world so cold, In a world so cold\n",
      "There's a sickness inside you that wants to escape\n",
      "It's a feeling you get when you can't find your way\n",
      "So how many times must you fall to your knees?\n",
      "Never, never, never, never, never do this again\n",
      "It starts with pain, followed by hate\n",
      "No I don't believe men are born to be killers\n",
      "I don't believe that the world can't be saved\n",
      "What kind of world do we live in\n",
      "Where love is divided by hate\n",
      "Losing control of our feeling\n",
      "We're dreaming this life away\n",
      "What kind of world do we live in\n",
      "Where love is divided by hate\n",
      "Selling our soul for no reason\n",
      "We all must be dreaming this life away\n",
      "In a world so cold\n",
      "In a world so cold\n",
      "\n",
      "Cleaned text:\n",
      "--------------------\n",
      "It starts with pain, followed by hate\n",
      "Fueled by the endless questions no one can answer\n",
      "A stain covers your heart and tears you apart\n",
      "Just like a sleeping cancer\n",
      "I don't believe men are born to be killers\n",
      "I don't believe the world can be saved\n",
      "How did you get here and when did it start?\n",
      "An innocent child with a thorn in his heart\n",
      "What kind of world do we live in?\n",
      "Where love is divided by hate\n",
      "Loosing control of our feelings\n",
      "We all must be dreaming this life away\n",
      "In a world so cold\n",
      "Are you sane, where's the shame?\n",
      "A moment of time passes by you cannot rewind\n",
      "Who's to blame and where did it start?\n",
      "Is there a cure for your sickness\n",
      "Have you no heart?\n",
      "I don't believe men are born to be killers\n",
      "I don't believe the world can't be saved\n",
      "How did you get here and when did it start?\n",
      "An innocent child with a thorn in his heart\n",
      "What kind of world do we live in?\n",
      "Where love is divided by hate\n",
      "Selling our soul for no reason\n",
      "We all must be dreaming this life away\n",
      "In a world so cold, In a world so cold\n",
      "There's a sickness inside you that wants to escape\n",
      "It's a feeling you get when you can't find your way\n",
      "So how many times must you fall to your knees?\n",
      "Never, never, never, never, never do this again\n",
      "It starts with pain, followed by hate\n",
      "No I don't believe men are born to be killers\n",
      "I don't believe that the world can't be saved\n",
      "What kind of world do we live in\n",
      "Where love is divided by hate\n",
      "Losing control of our feeling\n",
      "We're dreaming this life away\n",
      "What kind of world do we live in\n",
      "Where love is divided by hate\n",
      "Selling our soul for no reason\n",
      "We all must be dreaming this life away\n",
      "In a world so cold\n",
      "In a world so cold\n",
      "--------------------------------------------------\n",
      "\n",
      "Are they similar? - True\n"
     ]
    }
   ],
   "source": [
    "print(f'Uncleaned text:\\n{\"-\"*20}\\n{data.text[0]}\\n')\n",
    "print(f'Cleaned text:\\n{\"-\"*20}\\n{data.text_cleaned[0]}\\n{\"-\"*50}\\n')\n",
    "print(f'Are they similar? - {data.text[0] == data.text_cleaned[0]}')"
   ]
  },
  {
   "cell_type": "code",
   "execution_count": 81,
   "metadata": {},
   "outputs": [
    {
     "data": {
      "text/plain": [
       "is_similar\n",
       "True     0.991664\n",
       "False    0.008336\n",
       "Name: proportion, dtype: float64"
      ]
     },
     "execution_count": 81,
     "metadata": {},
     "output_type": "execute_result"
    }
   ],
   "source": [
    "data['is_similar'] = data['text'] == data['text_cleaned']\n",
    "data.is_similar.value_counts(normalize=True)"
   ]
  },
  {
   "cell_type": "code",
   "execution_count": 82,
   "metadata": {},
   "outputs": [],
   "source": [
    "def text_clean(text):\n",
    "    text = contractions.fix(text)\n",
    "    text = re.sub(r'[^\\S\\n]+', ' ', text)\n",
    "    text = re.sub(r'[^A-Za-z0-9\\n]', ' ', text)\n",
    "    text = text.lower().strip().strip('\\n')\n",
    "    return text"
   ]
  },
  {
   "cell_type": "code",
   "execution_count": 83,
   "metadata": {},
   "outputs": [
    {
     "data": {
      "application/vnd.jupyter.widget-view+json": {
       "model_id": "c19c7d58f63c44b69895ad630c669c8b",
       "version_major": 2,
       "version_minor": 0
      },
      "text/plain": [
       "  0%|          | 0/290147 [00:00<?, ?it/s]"
      ]
     },
     "metadata": {},
     "output_type": "display_data"
    },
    {
     "data": {
      "application/vnd.jupyter.widget-view+json": {
       "model_id": "8cb1a90c4f4648cfbc34b0a1285602ed",
       "version_major": 2,
       "version_minor": 0
      },
      "text/plain": [
       "  0%|          | 0/290147 [00:00<?, ?it/s]"
      ]
     },
     "metadata": {},
     "output_type": "display_data"
    },
    {
     "data": {
      "text/html": [
       "<div>\n",
       "<style scoped>\n",
       "    .dataframe tbody tr th:only-of-type {\n",
       "        vertical-align: middle;\n",
       "    }\n",
       "\n",
       "    .dataframe tbody tr th {\n",
       "        vertical-align: top;\n",
       "    }\n",
       "\n",
       "    .dataframe thead th {\n",
       "        text-align: right;\n",
       "    }\n",
       "</style>\n",
       "<table border=\"1\" class=\"dataframe\">\n",
       "  <thead>\n",
       "    <tr style=\"text-align: right;\">\n",
       "      <th></th>\n",
       "      <th>text</th>\n",
       "      <th>genre</th>\n",
       "      <th>label</th>\n",
       "      <th>label_model</th>\n",
       "      <th>text_cleaned</th>\n",
       "      <th>is_similar</th>\n",
       "      <th>num_chars</th>\n",
       "    </tr>\n",
       "  </thead>\n",
       "  <tbody>\n",
       "    <tr>\n",
       "      <th>0</th>\n",
       "      <td>It starts with pain, followed by hate\\nFueled ...</td>\n",
       "      <td>rock</td>\n",
       "      <td>9</td>\n",
       "      <td>LABEL_9</td>\n",
       "      <td>it starts with pain  followed by hate\\nfueled ...</td>\n",
       "      <td>True</td>\n",
       "      <td>1636</td>\n",
       "    </tr>\n",
       "    <tr>\n",
       "      <th>1</th>\n",
       "      <td>Freedom!\\nAlone again again alone\\nPatiently w...</td>\n",
       "      <td>rock</td>\n",
       "      <td>9</td>\n",
       "      <td>LABEL_9</td>\n",
       "      <td>freedom \\nalone again again alone\\npatiently w...</td>\n",
       "      <td>True</td>\n",
       "      <td>1199</td>\n",
       "    </tr>\n",
       "    <tr>\n",
       "      <th>2</th>\n",
       "      <td>Biting the hand that feeds you, lying to the v...</td>\n",
       "      <td>rock</td>\n",
       "      <td>9</td>\n",
       "      <td>LABEL_9</td>\n",
       "      <td>biting the hand that feeds you  lying to the v...</td>\n",
       "      <td>True</td>\n",
       "      <td>768</td>\n",
       "    </tr>\n",
       "    <tr>\n",
       "      <th>3</th>\n",
       "      <td>You say you know just who I am\\nBut you can't ...</td>\n",
       "      <td>rock</td>\n",
       "      <td>9</td>\n",
       "      <td>LABEL_9</td>\n",
       "      <td>you say you know just who i am\\nbut you cannot...</td>\n",
       "      <td>True</td>\n",
       "      <td>780</td>\n",
       "    </tr>\n",
       "    <tr>\n",
       "      <th>4</th>\n",
       "      <td>My heart is beating faster can't control these...</td>\n",
       "      <td>rock</td>\n",
       "      <td>9</td>\n",
       "      <td>LABEL_9</td>\n",
       "      <td>my heart is beating faster cannot control thes...</td>\n",
       "      <td>True</td>\n",
       "      <td>1717</td>\n",
       "    </tr>\n",
       "  </tbody>\n",
       "</table>\n",
       "</div>"
      ],
      "text/plain": [
       "                                                text genre  label label_model  \\\n",
       "0  It starts with pain, followed by hate\\nFueled ...  rock      9     LABEL_9   \n",
       "1  Freedom!\\nAlone again again alone\\nPatiently w...  rock      9     LABEL_9   \n",
       "2  Biting the hand that feeds you, lying to the v...  rock      9     LABEL_9   \n",
       "3  You say you know just who I am\\nBut you can't ...  rock      9     LABEL_9   \n",
       "4  My heart is beating faster can't control these...  rock      9     LABEL_9   \n",
       "\n",
       "                                        text_cleaned  is_similar  num_chars  \n",
       "0  it starts with pain  followed by hate\\nfueled ...        True       1636  \n",
       "1  freedom \\nalone again again alone\\npatiently w...        True       1199  \n",
       "2  biting the hand that feeds you  lying to the v...        True        768  \n",
       "3  you say you know just who i am\\nbut you cannot...        True        780  \n",
       "4  my heart is beating faster cannot control thes...        True       1717  "
      ]
     },
     "execution_count": 83,
     "metadata": {},
     "output_type": "execute_result"
    }
   ],
   "source": [
    "data_clean = data[data.text.notnull() & data.text_cleaned.notnull()]\\\n",
    "                    .reset_index(drop=True)\n",
    "\n",
    "data_clean['text_cleaned'] = data_clean['text_cleaned'].progress_apply(lambda text: text_clean(text))\n",
    "data_clean['num_chars'] = data_clean['text_cleaned'].progress_apply(lambda text: len(text))\n",
    "\n",
    "data_clean.head()"
   ]
  },
  {
   "cell_type": "code",
   "execution_count": 75,
   "metadata": {},
   "outputs": [
    {
     "data": {
      "text/plain": [
       "count    290147.000000\n",
       "mean       1208.166016\n",
       "std         777.200981\n",
       "min           0.000000\n",
       "25%         722.000000\n",
       "50%        1036.000000\n",
       "75%        1468.000000\n",
       "max       63137.000000\n",
       "Name: num_chars, dtype: float64"
      ]
     },
     "execution_count": 75,
     "metadata": {},
     "output_type": "execute_result"
    }
   ],
   "source": [
    "data_clean.num_chars.describe()"
   ]
  },
  {
   "cell_type": "code",
   "execution_count": 55,
   "metadata": {},
   "outputs": [
    {
     "data": {
      "text/html": [
       "<div>\n",
       "<style scoped>\n",
       "    .dataframe tbody tr th:only-of-type {\n",
       "        vertical-align: middle;\n",
       "    }\n",
       "\n",
       "    .dataframe tbody tr th {\n",
       "        vertical-align: top;\n",
       "    }\n",
       "\n",
       "    .dataframe thead th {\n",
       "        text-align: right;\n",
       "    }\n",
       "</style>\n",
       "<table border=\"1\" class=\"dataframe\">\n",
       "  <thead>\n",
       "    <tr style=\"text-align: right;\">\n",
       "      <th></th>\n",
       "      <th>text</th>\n",
       "      <th>genre</th>\n",
       "      <th>label</th>\n",
       "      <th>label_model</th>\n",
       "      <th>text_cleaned</th>\n",
       "      <th>is_similar</th>\n",
       "      <th>num_chars</th>\n",
       "    </tr>\n",
       "  </thead>\n",
       "  <tbody>\n",
       "    <tr>\n",
       "      <th>3414</th>\n",
       "      <td>E|--------------------------------------------...</td>\n",
       "      <td>metal</td>\n",
       "      <td>6</td>\n",
       "      <td>LABEL_6</td>\n",
       "      <td>e                                             ...</td>\n",
       "      <td>True</td>\n",
       "      <td>63137</td>\n",
       "    </tr>\n",
       "  </tbody>\n",
       "</table>\n",
       "</div>"
      ],
      "text/plain": [
       "                                                   text  genre  label  \\\n",
       "3414  E|--------------------------------------------...  metal      6   \n",
       "\n",
       "     label_model                                       text_cleaned  \\\n",
       "3414     LABEL_6  e                                             ...   \n",
       "\n",
       "      is_similar  num_chars  \n",
       "3414        True      63137  "
      ]
     },
     "execution_count": 55,
     "metadata": {},
     "output_type": "execute_result"
    }
   ],
   "source": [
    "data_clean[data_clean.num_chars == 63137]#.text_cleaned[3414])"
   ]
  },
  {
   "cell_type": "code",
   "execution_count": 77,
   "metadata": {},
   "outputs": [
    {
     "data": {
      "text/plain": [
       "'a hundred days have made me older \\nsince the last time that i saw your pretty face\\na thousand lies have made me colder\\nand i do not think i can look at this the same\\nbut all the miles that separate\\nthey disappear now when i am dreaming of your face\\ni am here without you baby\\nbut you are still on my lonely mind\\ni think about you baby\\nand i dream about you all the time\\ni am here without you baby\\nbut you are still with me in my dreams\\nand tonight  it is only you and me\\nthe miles just keep rolling\\nas the people leave their way to say hello\\ni have heard this life is overrated\\nbut i hope that it\\ngets better as we go\\ni am here without you baby\\nbut you are still on my lonely mind\\ni think about you baby\\nand i dream about you all the time\\ni am here without you baby\\nbut you are still with me in my dreams\\nand tonight  girl  it is only you and me\\neverything i know  and anywhere i go\\nit gets hard but it will not take away my love\\nand when the last one falls  when it is all said and done\\nit gets hard but it will not take away my love\\ni am here without you baby\\nbut you are still on my lonely mind\\ni think about you baby\\nand i dream about you all the time\\ni am here without you baby\\nbut you are still with me in my dreams\\nand tonight  girl  it is only you and me'"
      ]
     },
     "execution_count": 77,
     "metadata": {},
     "output_type": "execute_result"
    }
   ],
   "source": [
    "data_clean[data_clean.genre=='metal'].text_cleaned[100]"
   ]
  },
  {
   "cell_type": "code",
   "execution_count": null,
   "metadata": {},
   "outputs": [],
   "source": []
  }
 ],
 "metadata": {
  "kernelspec": {
   "display_name": "base",
   "language": "python",
   "name": "python3"
  },
  "language_info": {
   "codemirror_mode": {
    "name": "ipython",
    "version": 3
   },
   "file_extension": ".py",
   "mimetype": "text/x-python",
   "name": "python",
   "nbconvert_exporter": "python",
   "pygments_lexer": "ipython3",
   "version": "3.12.7"
  }
 },
 "nbformat": 4,
 "nbformat_minor": 2
}
